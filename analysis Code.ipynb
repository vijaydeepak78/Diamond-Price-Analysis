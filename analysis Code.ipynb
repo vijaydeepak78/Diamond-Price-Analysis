{
 "cells": [
  {
   "cell_type": "markdown",
   "id": "1ab95ab5",
   "metadata": {},
   "source": [
    "# 💎 Diamond Price Analysis\n",
    "\n",
    "This notebook analyzes the relationship between diamond attributes and their prices using the provided dataset."
   ]
  },
  {
   "cell_type": "code",
   "execution_count": null,
   "id": "68ad2131",
   "metadata": {},
   "outputs": [],
   "source": [
    "import pandas as pd\n",
    "import seaborn as sns\n",
    "import matplotlib.pyplot as plt\n",
    "import numpy as np\n",
    "\n",
    "# Enable inline plotting\n",
    "%matplotlib inline"
   ]
  },
  {
   "cell_type": "code",
   "execution_count": null,
   "id": "6e9f33f7",
   "metadata": {},
   "outputs": [],
   "source": [
    "# Load the dataset\n",
    "df = pd.read_csv('diamonds.csv')\n",
    "df.head()"
   ]
  },
  {
   "cell_type": "code",
   "execution_count": null,
   "id": "c1511382",
   "metadata": {},
   "outputs": [],
   "source": [
    "df.info()"
   ]
  },
  {
   "cell_type": "code",
   "execution_count": null,
   "id": "c2493310",
   "metadata": {},
   "outputs": [],
   "source": [
    "# Create a new column 'size' = x * y * z\n",
    "df['size'] = df['x'] * df['y'] * df['z']\n",
    "df[['x', 'y', 'z', 'size']].head()"
   ]
  },
  {
   "cell_type": "code",
   "execution_count": null,
   "id": "46466c99",
   "metadata": {},
   "outputs": [],
   "source": [
    "df.describe(include='all')"
   ]
  },
  {
   "cell_type": "code",
   "execution_count": null,
   "id": "1b33a296",
   "metadata": {},
   "outputs": [],
   "source": [
    "df.isnull().sum()"
   ]
  },
  {
   "cell_type": "code",
   "execution_count": null,
   "id": "96aea998",
   "metadata": {},
   "outputs": [],
   "source": [
    "plt.figure(figsize=(10, 5))\n",
    "sns.histplot(df['price'], kde=True, bins=50)\n",
    "plt.title('Price Distribution')\n",
    "plt.xlabel('Price')"
   ]
  },
  {
   "cell_type": "code",
   "execution_count": null,
   "id": "c9a11add",
   "metadata": {},
   "outputs": [],
   "source": [
    "plt.figure(figsize=(10, 5))\n",
    "sns.scatterplot(x='carat', y='price', data=df, alpha=0.5)\n",
    "plt.title('Price vs Carat')"
   ]
  },
  {
   "cell_type": "code",
   "execution_count": null,
   "id": "07cf0e4f",
   "metadata": {},
   "outputs": [],
   "source": [
    "plt.figure(figsize=(10, 5))\n",
    "sns.boxplot(x='cut', y='price', data=df)\n",
    "plt.title('Price vs Cut')"
   ]
  },
  {
   "cell_type": "code",
   "execution_count": null,
   "id": "8ceba8e7",
   "metadata": {},
   "outputs": [],
   "source": [
    "plt.figure(figsize=(10, 8))\n",
    "sns.heatmap(df.corr(numeric_only=True), annot=True, cmap='coolwarm')\n",
    "plt.title('Correlation Heatmap')"
   ]
  }
 ],
 "metadata": {},
 "nbformat": 4,
 "nbformat_minor": 5
}
